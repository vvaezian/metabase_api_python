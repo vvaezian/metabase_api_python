{
 "cells": [
  {
   "cell_type": "code",
   "execution_count": 1,
   "metadata": {},
   "outputs": [],
   "source": [
    "from metabase_api import Metabase_API"
   ]
  },
  {
   "cell_type": "code",
   "execution_count": 2,
   "metadata": {},
   "outputs": [],
   "source": [
    "url = 'https://polar-analytics.herokuapp.com'\n",
    "username = 'charbel@thegrowthteam.co' #'Charbel Seif'\n",
    "password = 'c_HpcK0IrFqjKY'\n",
    "mb = Metabase_API(url, username, password)"
   ]
  },
  {
   "cell_type": "code",
   "execution_count": 3,
   "metadata": {},
   "outputs": [],
   "source": [
    "new_client_name = 'polene'\n",
    "main_collection_id = 225\n",
    "new_collection_id = 242"
   ]
  },
  {
   "cell_type": "code",
   "execution_count": 5,
   "metadata": {},
   "outputs": [
    {
     "name": "stdout",
     "output_type": "stream",
     "text": [
      "Number of filters: 3\n",
      " Existing field id:  35805\n",
      "  New field id:  5826\n",
      " Existing field id:  35803\n",
      "  New field id:  5825\n"
     ]
    }
   ],
   "source": [
    "mb.copy_dashboard(source_dashboard_id=294, destination_collection_id=71, new_client_name=new_client_name, deepcopy=True)"
   ]
  },
  {
   "cell_type": "code",
   "execution_count": 4,
   "metadata": {
    "collapsed": true,
    "jupyter": {
     "outputs_hidden": true
    }
   },
   "outputs": [
    {
     "name": "stdout",
     "output_type": "stream",
     "text": [
      "Copying the dashboard Acquisition Performance ...\n",
      "Number of filters: 2\n",
      " Existing field id:  35615\n",
      "  New field id:  16846\n",
      "Number of filters: 2\n",
      " Existing field id:  35615\n",
      "  New field id:  16846\n",
      "Copying the dashboard Cohorts Analysis ...\n",
      "Number of filters: 2\n",
      " Existing field id:  35615\n",
      "  New field id:  16846\n",
      "Number of filters: 2\n",
      " Existing field id:  35615\n",
      "  New field id:  16846\n",
      "Copying the dashboard Key Indicators ...\n",
      "Number of filters: 2\n",
      " Existing field id:  35615\n",
      "  New field id:  16846\n",
      " Existing field id:  35615\n",
      "  New field id:  16846\n",
      "Number of filters: 2\n",
      " Existing field id:  35615\n",
      "  New field id:  16846\n",
      " Existing field id:  35615\n",
      "  New field id:  16846\n",
      "Number of filters: 2\n",
      " Existing field id:  35615\n",
      "  New field id:  16846\n",
      " Existing field id:  35615\n",
      "  New field id:  16846\n",
      "Number of filters: 2\n",
      " Existing field id:  33947\n",
      "  New field id:  3912\n",
      " Existing field id:  33947\n",
      "  New field id:  3912\n",
      "Number of filters: 2\n",
      " Existing field id:  33947\n",
      "  New field id:  3912\n",
      " Existing field id:  33947\n",
      "  New field id:  3912\n",
      "Number of filters: 2\n",
      " Existing field id:  35615\n",
      "  New field id:  16846\n",
      " Existing field id:  35615\n",
      "  New field id:  16846\n",
      "Number of filters: 2\n",
      " Existing field id:  35615\n",
      "  New field id:  16846\n",
      " Existing field id:  35615\n",
      "  New field id:  16846\n",
      "Number of filters: 2\n",
      " Existing field id:  35615\n",
      "  New field id:  16846\n",
      " Existing field id:  35615\n",
      "  New field id:  16846\n",
      "Copying the dashboard Key metrics by platform ...\n",
      "Number of filters: 2\n",
      " Existing field id:  33744\n",
      "  New field id:  3912\n",
      "Number of filters: 2\n",
      " Existing field id:  33947\n",
      "  New field id:  3912\n",
      "Number of filters: 2\n",
      " Existing field id:  33947\n",
      "  New field id:  3912\n",
      "Number of filters: 2\n",
      " Existing field id:  33947\n",
      "  New field id:  3912\n",
      "Copying the dashboard Key metrics by source ...\n",
      "Number of filters: 6\n",
      " Existing field id:  33947\n",
      "  New field id:  3912\n",
      " Existing field id:  33955\n",
      "  New field id:  3920\n",
      " Existing field id:  33943\n",
      "  New field id:  3908\n",
      " Existing field id:  33950\n",
      "  New field id:  3915\n",
      "Number of filters: 6\n",
      " Existing field id:  33947\n",
      "  New field id:  3912\n",
      " Existing field id:  33955\n",
      "  New field id:  3920\n",
      " Existing field id:  33943\n",
      "  New field id:  3908\n",
      " Existing field id:  33950\n",
      "  New field id:  3915\n",
      "Number of filters: 6\n",
      " Existing field id:  33947\n",
      "  New field id:  3912\n",
      " Existing field id:  33955\n",
      "  New field id:  3920\n",
      " Existing field id:  33943\n",
      "  New field id:  3908\n",
      " Existing field id:  33950\n",
      "  New field id:  3915\n",
      "Number of filters: 6\n",
      " Existing field id:  33947\n",
      "  New field id:  3912\n",
      " Existing field id:  33955\n",
      "  New field id:  3920\n",
      " Existing field id:  33943\n",
      "  New field id:  3908\n",
      " Existing field id:  33950\n",
      "  New field id:  3915\n",
      "Number of filters: 6\n",
      " Existing field id:  33947\n",
      "  New field id:  3912\n",
      " Existing field id:  33955\n",
      "  New field id:  3920\n",
      " Existing field id:  33943\n",
      "  New field id:  3908\n",
      " Existing field id:  33950\n",
      "  New field id:  3915\n",
      "Number of filters: 6\n",
      " Existing field id:  33947\n",
      "  New field id:  3912\n",
      " Existing field id:  33955\n",
      "  New field id:  3920\n",
      " Existing field id:  33943\n",
      "  New field id:  3908\n",
      " Existing field id:  33950\n",
      "  New field id:  3915\n",
      "Copying the dashboard Life-Time Revenue ...\n",
      "Number of filters: 1\n",
      " Existing field id:  35615\n",
      "  New field id:  16846\n",
      "Number of filters: 1\n",
      " Existing field id:  34281\n",
      "  New field id:  3650\n",
      "Number of filters: 1\n",
      " Existing field id:  35615\n",
      "  New field id:  16846\n",
      "Copying the dashboard Product Sales Deep Dive ...\n",
      "Number of filters: 3\n",
      " Existing field id:  35805\n",
      "  New field id:  5826\n",
      " Existing field id:  35803\n",
      "  New field id:  5825\n",
      "Copying the dashboard Top Product Sales ...\n",
      "Number of filters: 4\n",
      " Existing field id:  35822\n",
      "  New field id:  5945\n",
      " Existing field id:  35821\n",
      "  New field id:  5944\n",
      " Existing field id:  35824\n",
      "  New field id:  5947\n",
      "Copying the dashboard Traffic Insights (Facebook) ...\n",
      "Number of filters: 1\n",
      " Existing field id:  35875\n",
      "  New field id:  38968\n",
      "Number of filters: 1\n",
      " Existing field id:  35875\n",
      "  New field id:  38968\n",
      "Copying the dashboard Traffic Insights (Google) ...\n",
      "Number of filters: 1\n",
      " Existing field id:  33541\n",
      "  New field id:  12621\n",
      "Number of filters: 1\n",
      " Existing field id:  33541\n",
      "  New field id:  12621\n"
     ]
    }
   ],
   "source": [
    "mb.copy_collection(source_collection_id=main_collection_id, destination_parent_collection_id=new_collection_id, \n",
    "                   deepcopy_dashboards=True, verbose=True, new_client_name=new_client_name, klaviyo=False, products=True)"
   ]
  },
  {
   "cell_type": "code",
   "execution_count": 5,
   "metadata": {},
   "outputs": [
    {
     "name": "stdout",
     "output_type": "stream",
     "text": [
      "Number of filters: 2\n",
      " Existing field id:  33947\n",
      "  New field id:  3912\n",
      " Existing field id:  33947\n",
      "  New field id:  3912\n"
     ]
    },
    {
     "data": {
      "text/plain": [
       "717"
      ]
     },
     "execution_count": 5,
     "metadata": {},
     "output_type": "execute_result"
    }
   ],
   "source": [
    "mb.copy_card(source_card_id=568, destination_collection_id=222, new_client_name='polene')"
   ]
  },
  {
   "cell_type": "code",
   "execution_count": null,
   "metadata": {},
   "outputs": [],
   "source": []
  },
  {
   "cell_type": "code",
   "execution_count": null,
   "metadata": {},
   "outputs": [],
   "source": []
  },
  {
   "cell_type": "code",
   "execution_count": null,
   "metadata": {},
   "outputs": [],
   "source": []
  },
  {
   "cell_type": "code",
   "execution_count": null,
   "metadata": {},
   "outputs": [],
   "source": []
  },
  {
   "cell_type": "code",
   "execution_count": null,
   "metadata": {},
   "outputs": [],
   "source": []
  },
  {
   "cell_type": "markdown",
   "metadata": {},
   "source": [
    "## Writing duplication code"
   ]
  },
  {
   "cell_type": "code",
   "execution_count": 109,
   "metadata": {},
   "outputs": [],
   "source": [
    "card = mb.get(\"/api/card/568\")\n",
    "#card"
   ]
  },
  {
   "cell_type": "code",
   "execution_count": 110,
   "metadata": {},
   "outputs": [],
   "source": [
    "def get_new_field_id(existing_field_id):\n",
    "    \n",
    "    existing_field_json = mb.get(\"/api/field/{}\".format(existing_field_id))\n",
    "    existing_field_name = existing_field_json['name']\n",
    "    existing_schema = existing_field_json['table']['schema']\n",
    "    existing_table_name = existing_field_json['table']['name']\n",
    "\n",
    "    new_schema = existing_schema.replace(main_client_name, new_client_name)\n",
    "    new_table_name = existing_table_name.replace(main_client_name, new_client_name)\n",
    "    \n",
    "    tables = mb.get(\"/api/table/\") #get all tables on metabase\n",
    "    \n",
    "    for i, table in enumerate(tables):\n",
    "        schema = table['schema']\n",
    "        name = table['name']\n",
    "        db_name = table['db']['name']\n",
    "        if (schema == new_schema) and (name==new_table_name) and (db_name==db):\n",
    "            new_table_id = table['id']\n",
    "        \n",
    "    new_table_fields = mb.get(\"/api/table/{}/query_metadata\".format(new_table_id))['fields']\n",
    "    for i, field in enumerate(new_table_fields):\n",
    "        name = field['name']\n",
    "        if name == existing_field_name:\n",
    "            new_field_id = field['id']\n",
    "            \n",
    "    return new_field_id"
   ]
  },
  {
   "cell_type": "code",
   "execution_count": 113,
   "metadata": {},
   "outputs": [
    {
     "name": "stdout",
     "output_type": "stream",
     "text": [
      "Number of filters: 2\n",
      " Existing field id:  3912\n",
      "  New field id:  3912\n",
      " Existing field id:  3912\n",
      "  New field id:  3912\n"
     ]
    }
   ],
   "source": [
    "template_tags = card['dataset_query']['native']['template-tags']\n",
    "print('Number of filters:', len(template_tags))\n",
    "\n",
    "for filter in template_tags.keys():\n",
    "    filter_json = template_tags[filter]\n",
    "    if 'dimension' in filter_json:\n",
    "        field_list = filter_json['dimension']\n",
    "        existing_field_id = field_list[1]\n",
    "        print(' Existing field id: ', existing_field_id)\n",
    "        new_field_id = get_new_field_id(existing_field_id)\n",
    "        print('  New field id: ',new_field_id)\n",
    "        \n",
    "        #replace existing field id:\n",
    "        field_list[1] = field_id\n",
    "        card['dataset_query']['native']['template-tags'][filter]['dimension'] = field_list"
   ]
  },
  {
   "cell_type": "code",
   "execution_count": 103,
   "metadata": {},
   "outputs": [
    {
     "data": {
      "text/plain": [
       "{'description': None,\n",
       " 'archived': False,\n",
       " 'collection_position': None,\n",
       " 'table_id': None,\n",
       " 'result_metadata': [{'name': 'date',\n",
       "   'display_name': 'date',\n",
       "   'base_type': 'type/Date',\n",
       "   'special_type': None,\n",
       "   'fingerprint': {'global': {'distinct-count': 2, 'nil%': 0.0},\n",
       "    'type': {'type/DateTime': {'earliest': '2020-04-01',\n",
       "      'latest': '2020-04-02'}}}},\n",
       "  {'name': 'sessions',\n",
       "   'display_name': 'sessions',\n",
       "   'base_type': 'type/Decimal',\n",
       "   'special_type': None,\n",
       "   'fingerprint': {'global': {'distinct-count': 2, 'nil%': 0.0},\n",
       "    'type': {'type/Number': {'min': 207294.0,\n",
       "      'max': 245326.0,\n",
       "      'avg': 226310.0,\n",
       "      'sd': 26892.685102086776,\n",
       "      'q1': 207294.0,\n",
       "      'q3': 245326.0}}}}],\n",
       " 'creator': {'email': 'louis@thegrowthteam.co',\n",
       "  'first_name': 'Louis',\n",
       "  'last_login': '2020-07-09T15:15:26.604518Z',\n",
       "  'is_qbnewb': False,\n",
       "  'is_superuser': False,\n",
       "  'id': 38,\n",
       "  'last_name': 'Collet',\n",
       "  'date_joined': '2020-07-09T09:39:08.467419Z',\n",
       "  'common_name': 'Louis Collet'},\n",
       " 'can_write': True,\n",
       " 'database_id': 2,\n",
       " 'enable_embedding': False,\n",
       " 'collection_id': 197,\n",
       " 'query_type': 'native',\n",
       " 'name': 'Number of visits',\n",
       " 'dashboard_count': 1,\n",
       " 'read_permissions': None,\n",
       " 'creator_id': 38,\n",
       " 'updated_at': '2020-07-20T15:22:13.843232Z',\n",
       " 'made_public_by_id': None,\n",
       " 'embedding_params': None,\n",
       " 'cache_ttl': None,\n",
       " 'dataset_query': {'type': 'native',\n",
       "  'native': {'query': \"SELECT \\n'2020-04-02'::date AS date,\\nSUM(ga_sessions) AS sessions\\nFROM ffuture_ga_tap.view_ga_agg_source_medium_device\\nWHERE {{date}}\\n[[UNION ALL\\nSELECT \\nCASE WHEN \\n    ( (SELECT MIN(date) FROM ffuture_ga_tap.view_ga_agg_source_medium_device WHERE {{date}})\\n    >= (SELECT MIN(date) FROM ffuture_ga_tap.view_ga_agg_source_medium_device WHERE {{compare_to_date}}) )\\nTHEN '2020-04-01'::date ELSE '2020-04-03'::date END AS date,\\nSUM(ga_sessions) AS sessions\\nFROM ffuture_ga_tap.view_ga_agg_source_medium_device\\nWHERE {{compare_to_date}}]]\\nORDER BY date ASC;\\n\\n\",\n",
       "   'template-tags': {'date': {'widget-type': 'date/range',\n",
       "     'default': '2020-02-01~2020-03-31',\n",
       "     'name': 'date',\n",
       "     'type': 'dimension',\n",
       "     'id': 'f1c49948-42f9-21a6-83c9-eac4643b1bf2',\n",
       "     'dimension': ['field-id', 3912],\n",
       "     'display-name': 'Date',\n",
       "     'required': True},\n",
       "    'compare_to_date': {'id': '86d6cac6-b9db-2fdd-f44e-6f75a2e1519e',\n",
       "     'name': 'compare_to_date',\n",
       "     'display-name': 'Compare to ',\n",
       "     'type': 'dimension',\n",
       "     'dimension': ['field-id', 3912],\n",
       "     'widget-type': 'date/range'}}},\n",
       "  'database': 2},\n",
       " 'id': 568,\n",
       " 'display': 'smartscalar',\n",
       " 'visualization_settings': {'graph.show_values': False,\n",
       "  'graph.x_axis.labels_enabled': False,\n",
       "  'table.cell_column': 'sum',\n",
       "  'graph.y_axis.labels_enabled': False,\n",
       "  'card.title': 'Number of visits',\n",
       "  'graph.metrics': ['sum'],\n",
       "  'card.description': 'Source: Google Analytics',\n",
       "  'table.pivot_column': 'date',\n",
       "  'column_settings': {'[\"name\",\"sum\"]': {'prefix': '',\n",
       "    'number_style': 'decimal'}},\n",
       "  'series_settings': {'sum': {'display': 'area', 'color': '#A989C5'}},\n",
       "  'graph.y_axis.auto_range': True,\n",
       "  'graph.dimensions': ['date']},\n",
       " 'collection': {'id': 197,\n",
       "  'name': 'FFuture',\n",
       "  'description': None,\n",
       "  'color': '#8b8de3',\n",
       "  'archived': False,\n",
       "  'location': '/',\n",
       "  'personal_owner_id': None,\n",
       "  'slug': 'ffuture'},\n",
       " 'created_at': '2020-07-09T16:42:07.923913Z',\n",
       " 'public_uuid': None}"
      ]
     },
     "execution_count": 103,
     "metadata": {},
     "output_type": "execute_result"
    }
   ],
   "source": [
    "card"
   ]
  },
  {
   "cell_type": "code",
   "execution_count": 89,
   "metadata": {},
   "outputs": [],
   "source": []
  },
  {
   "cell_type": "code",
   "execution_count": 69,
   "metadata": {},
   "outputs": [],
   "source": [
    "tables = mb.get(\"/api/table/\")\n",
    "#tables"
   ]
  },
  {
   "cell_type": "code",
   "execution_count": 90,
   "metadata": {},
   "outputs": [
    {
     "data": {
      "text/plain": [
       "'date'"
      ]
     },
     "execution_count": 90,
     "metadata": {},
     "output_type": "execute_result"
    }
   ],
   "source": [
    "existing_field_name"
   ]
  },
  {
   "cell_type": "code",
   "execution_count": 92,
   "metadata": {},
   "outputs": [],
   "source": [
    "for i, table in enumerate(tables):\n",
    "    schema = table['schema']\n",
    "    name = table['name']\n",
    "    db_name = table['db']['name']\n",
    "    if (schema == new_schema) and (name==new_table_name) and (db_name==db):\n",
    "        new_table_id = table['id']\n",
    "\n",
    "new_table_fields = mb.get(\"/api/table/{}/query_metadata\".format(new_table_id))['fields']\n",
    "for i, field in enumerate(new_table_fields):\n",
    "    name = field['name']\n",
    "    if name == existing_field_name:\n",
    "        new_field_id = field['id']"
   ]
  },
  {
   "cell_type": "code",
   "execution_count": 93,
   "metadata": {},
   "outputs": [
    {
     "data": {
      "text/plain": [
       "3912"
      ]
     },
     "execution_count": 93,
     "metadata": {},
     "output_type": "execute_result"
    }
   ],
   "source": [
    "new_field_id"
   ]
  },
  {
   "cell_type": "code",
   "execution_count": 16,
   "metadata": {},
   "outputs": [],
   "source": []
  },
  {
   "cell_type": "code",
   "execution_count": 21,
   "metadata": {},
   "outputs": [],
   "source": [
    "fields = mb.get(\"/api/table/238/query_metadata\")['fields']"
   ]
  },
  {
   "cell_type": "code",
   "execution_count": 22,
   "metadata": {},
   "outputs": [],
   "source": [
    "for i, field in enumerate(fields):\n",
    "    name = field['name']\n",
    "    if name == 'date':\n",
    "        field_id = field['id']"
   ]
  },
  {
   "cell_type": "code",
   "execution_count": 23,
   "metadata": {},
   "outputs": [
    {
     "data": {
      "text/plain": [
       "3912"
      ]
     },
     "execution_count": 23,
     "metadata": {},
     "output_type": "execute_result"
    }
   ],
   "source": [
    "field_id"
   ]
  },
  {
   "cell_type": "code",
   "execution_count": 34,
   "metadata": {},
   "outputs": [
    {
     "data": {
      "text/plain": [
       "{'description': None,\n",
       " 'archived': False,\n",
       " 'collection_position': None,\n",
       " 'table_id': None,\n",
       " 'result_metadata': [{'name': 'date',\n",
       "   'display_name': 'date',\n",
       "   'base_type': 'type/Date',\n",
       "   'special_type': None,\n",
       "   'fingerprint': {'global': {'distinct-count': 2, 'nil%': 0.0},\n",
       "    'type': {'type/DateTime': {'earliest': '2020-04-01',\n",
       "      'latest': '2020-04-02'}}}},\n",
       "  {'name': 'sessions',\n",
       "   'display_name': 'sessions',\n",
       "   'base_type': 'type/Decimal',\n",
       "   'special_type': None,\n",
       "   'fingerprint': {'global': {'distinct-count': 2, 'nil%': 0.0},\n",
       "    'type': {'type/Number': {'min': 207294.0,\n",
       "      'max': 245326.0,\n",
       "      'avg': 226310.0,\n",
       "      'sd': 26892.685102086776,\n",
       "      'q1': 207294.0,\n",
       "      'q3': 245326.0}}}}],\n",
       " 'creator': {'email': 'louis@thegrowthteam.co',\n",
       "  'first_name': 'Louis',\n",
       "  'last_login': '2020-07-09T15:15:26.604518Z',\n",
       "  'is_qbnewb': False,\n",
       "  'is_superuser': False,\n",
       "  'id': 38,\n",
       "  'last_name': 'Collet',\n",
       "  'date_joined': '2020-07-09T09:39:08.467419Z',\n",
       "  'common_name': 'Louis Collet'},\n",
       " 'can_write': True,\n",
       " 'database_id': 2,\n",
       " 'enable_embedding': False,\n",
       " 'collection_id': 197,\n",
       " 'query_type': 'native',\n",
       " 'name': 'Number of visits',\n",
       " 'dashboard_count': 1,\n",
       " 'read_permissions': None,\n",
       " 'creator_id': 38,\n",
       " 'updated_at': '2020-07-20T14:52:30.301774Z',\n",
       " 'made_public_by_id': None,\n",
       " 'embedding_params': None,\n",
       " 'cache_ttl': None,\n",
       " 'dataset_query': {'type': 'native',\n",
       "  'native': {'query': \"SELECT \\n'2020-04-02'::date AS date,\\nSUM(ga_sessions) AS sessions\\nFROM ffuture_ga_tap.view_ga_agg_source_medium_device\\nWHERE {{date}}\\n[[UNION ALL\\nSELECT \\nCASE WHEN \\n    ( (SELECT MIN(date) FROM ffuture_ga_tap.view_ga_agg_source_medium_device WHERE {{date}})\\n    >= (SELECT MIN(date) FROM ffuture_ga_tap.view_ga_agg_source_medium_device WHERE {{compare_to_date}}) )\\nTHEN '2020-04-01'::date ELSE '2020-04-03'::date END AS date,\\nSUM(ga_sessions) AS sessions\\nFROM ffuture_ga_tap.view_ga_agg_source_medium_device\\nWHERE {{compare_to_date}}]]\\nORDER BY date ASC;\\n\\n\",\n",
       "   'template-tags': {'date': {'widget-type': 'date/range',\n",
       "     'default': '2020-02-01~2020-03-31',\n",
       "     'name': 'date',\n",
       "     'type': 'dimension',\n",
       "     'id': 'f1c49948-42f9-21a6-83c9-eac4643b1bf2',\n",
       "     'dimension': ['field-id', 3912],\n",
       "     'display-name': 'Date',\n",
       "     'required': True},\n",
       "    'compare_to_date': {'id': '86d6cac6-b9db-2fdd-f44e-6f75a2e1519e',\n",
       "     'name': 'compare_to_date',\n",
       "     'display-name': 'Compare to ',\n",
       "     'type': 'dimension',\n",
       "     'dimension': ['field-id', 3912],\n",
       "     'widget-type': 'date/range'}}},\n",
       "  'database': 2},\n",
       " 'id': 568,\n",
       " 'display': 'smartscalar',\n",
       " 'visualization_settings': {'graph.show_values': False,\n",
       "  'graph.x_axis.labels_enabled': False,\n",
       "  'table.cell_column': 'sum',\n",
       "  'graph.y_axis.labels_enabled': False,\n",
       "  'card.title': 'Number of visits',\n",
       "  'graph.metrics': ['sum'],\n",
       "  'card.description': 'Source: Google Analytics',\n",
       "  'table.pivot_column': 'date',\n",
       "  'column_settings': {'[\"name\",\"sum\"]': {'prefix': '',\n",
       "    'number_style': 'decimal'}},\n",
       "  'series_settings': {'sum': {'display': 'area', 'color': '#A989C5'}},\n",
       "  'graph.y_axis.auto_range': True,\n",
       "  'graph.dimensions': ['date']},\n",
       " 'collection': {'id': 197,\n",
       "  'name': 'FFuture',\n",
       "  'description': None,\n",
       "  'color': '#8b8de3',\n",
       "  'archived': False,\n",
       "  'location': '/',\n",
       "  'personal_owner_id': None,\n",
       "  'slug': 'ffuture'},\n",
       " 'created_at': '2020-07-09T16:42:07.923913Z',\n",
       " 'public_uuid': None}"
      ]
     },
     "execution_count": 34,
     "metadata": {},
     "output_type": "execute_result"
    }
   ],
   "source": [
    "card"
   ]
  },
  {
   "cell_type": "code",
   "execution_count": 12,
   "metadata": {},
   "outputs": [
    {
     "name": "stdout",
     "output_type": "stream",
     "text": [
      "Copying the collection Acquisition Performance ...\n",
      "Copying the card Sales vs. ROAS (Return on Ad Spend) ...\n",
      "Copying the card Spend vs Blended CPP ...\n",
      "Copying the dashboard Acquisition Performance ...\n",
      "Copying the collection Alerts ...\n",
      "Copying the dashboard Alerts ...\n",
      "Copying the card CAC Alert ...\n",
      "Copying the card CVR Alert Huygens ...\n",
      "Copying the card ROAS Alert Huygens ...\n",
      "Copying the card Average order by Customers ...\n",
      "Copying the card Average Order Value ...\n",
      "Copying the dashboard Cohorts Analysis ...\n",
      "Copying the card Cohorts Analysis - LTV by First Order Month ...\n",
      "Copying the collection Key Indicators ...\n",
      "Copying the card Average Conversion Rate ...\n",
      "Copying the card Average Transaction Value ...\n",
      "Copying the card Number of visits ...\n",
      "Copying the card Revenu ...\n",
      "Copying the dashboard Key Indicators ...\n",
      "Copying the collection Key metrics by platform ...\n",
      "Copying the card Conversion Rate By Platform ...\n",
      "Copying the card Spend Amount By Platform ...\n",
      "Copying the card Total Sales By Platform ...\n",
      "Copying the card Total Sessions By Platform ...\n",
      "Copying the dashboard Key metrics by platform ...\n",
      "Copying the collection Key metrics by source ...\n",
      "Copying the card Conversion Rate By Source ...\n",
      "Copying the card Spend Amount By Source ...\n",
      "Copying the card Total Sales By Source ...\n",
      "Copying the card Total Sessions by Source ...\n",
      "Copying the dashboard Key metrics by source ...\n",
      "Copying the dashboard Life-Time Revenue ...\n",
      "Copying the card LTV (1 year) - Historical ...\n",
      "Copying the card Repurchase rate Quarters Later ...\n",
      "Copying the collection Traffic Insights ...\n",
      "Copying the card Watch out, these segments are under-performing ...\n",
      "Copying the card Yeah, these segments are performing well ...\n",
      "Copying the dashboard Traffic Insights ...\n"
     ]
    }
   ],
   "source": [
    "mb.copy_collection(source_collection_id=123, destination_parent_collection_id=206, deepcopy_dashboards=True, verbose=True)"
   ]
  }
 ],
 "metadata": {
  "kernelspec": {
   "display_name": "Python 2",
   "language": "python",
   "name": "python2"
  },
  "language_info": {
   "codemirror_mode": {
    "name": "ipython",
    "version": 3
   },
   "file_extension": ".py",
   "mimetype": "text/x-python",
   "name": "python",
   "nbconvert_exporter": "python",
   "pygments_lexer": "ipython3",
   "version": "3.6.5"
  }
 },
 "nbformat": 4,
 "nbformat_minor": 4
}
